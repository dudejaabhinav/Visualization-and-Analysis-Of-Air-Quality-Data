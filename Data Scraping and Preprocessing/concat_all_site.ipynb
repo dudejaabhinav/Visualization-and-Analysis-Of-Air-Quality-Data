{
 "cells": [
  {
   "cell_type": "code",
   "execution_count": 1,
   "id": "68056d8b",
   "metadata": {},
   "outputs": [],
   "source": [
    "import pandas as pd\n",
    "import os"
   ]
  },
  {
   "cell_type": "code",
   "execution_count": 2,
   "id": "22d0a56a",
   "metadata": {},
   "outputs": [],
   "source": [
    "files = os.listdir('./site_data_hourly')"
   ]
  },
  {
   "cell_type": "code",
   "execution_count": 8,
   "id": "a0c6ec96",
   "metadata": {},
   "outputs": [
    {
     "data": {
      "text/plain": [
       "432"
      ]
     },
     "execution_count": 8,
     "metadata": {},
     "output_type": "execute_result"
    }
   ],
   "source": [
    "dfs = []\n",
    "for file in files:\n",
    "    df = pd.read_csv('site_data_hourly/'+file)\n",
    "    df['site_id'] = file[:-4]\n",
    "    dfs.append(df)\n",
    "new_df = pd.concat(dfs, axis=0, ignore_index=True)\n",
    "len(new_df['site_id'].unique())"
   ]
  },
  {
   "cell_type": "code",
   "execution_count": 10,
   "id": "235b0e2c",
   "metadata": {},
   "outputs": [],
   "source": [
    "new_df.to_csv('site_data_hourly/site_data_hourly.csv', index=False)"
   ]
  },
  {
   "cell_type": "code",
   "execution_count": null,
   "id": "26f4b293",
   "metadata": {},
   "outputs": [],
   "source": []
  }
 ],
 "metadata": {
  "kernelspec": {
   "display_name": "Python 3 (ipykernel)",
   "language": "python",
   "name": "python3"
  },
  "language_info": {
   "codemirror_mode": {
    "name": "ipython",
    "version": 3
   },
   "file_extension": ".py",
   "mimetype": "text/x-python",
   "name": "python",
   "nbconvert_exporter": "python",
   "pygments_lexer": "ipython3",
   "version": "3.10.8"
  }
 },
 "nbformat": 4,
 "nbformat_minor": 5
}
