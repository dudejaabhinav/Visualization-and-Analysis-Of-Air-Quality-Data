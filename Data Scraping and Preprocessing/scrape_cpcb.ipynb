{
 "cells": [
  {
   "cell_type": "code",
   "execution_count": 1,
   "id": "5d00139e",
   "metadata": {},
   "outputs": [],
   "source": [
    "from selenium import webdriver\n",
    "from selenium.webdriver.firefox.service import Service as FirefoxService\n",
    "from webdriver_manager.firefox import GeckoDriverManager\n",
    "from selenium.webdriver.support.wait import WebDriverWait\n",
    "from selenium.webdriver.support import expected_conditions as EC\n",
    "from selenium.webdriver.common.by import By\n",
    "from selenium.webdriver.common.action_chains import ActionChains\n",
    "from urllib.parse import quote, unquote\n",
    "import json\n",
    "from datetime import datetime\n",
    "import pandas as pd\n",
    "from tqdm.notebook import tqdm\n",
    "import ipywidgets as widgets\n",
    "from IPython.display import display\n",
    "from multiprocessing import Process, Pool\n",
    "from threading import Thread"
   ]
  },
  {
   "cell_type": "code",
   "execution_count": 2,
   "id": "33baae3f",
   "metadata": {},
   "outputs": [],
   "source": [
    "firefox_options = webdriver.FirefoxOptions()\n",
    "download_path = r\"C:\\Users\\abhid\\Downloads\\Project\\sites\\2022-23\\41-45\"\n",
    "firefox_options.set_preference(\"browser.download.alwaysOpenPanel\", False)\n",
    "firefox_options.set_preference(\"browser.download.folderList\", 2)\n",
    "firefox_options.set_preference(\"browser.download.dir\", download_path)\n",
    "# firefox_options.add_argument('-private')"
   ]
  },
  {
   "cell_type": "code",
   "execution_count": 3,
   "id": "ef2bd0af",
   "metadata": {},
   "outputs": [],
   "source": [
    "parameters = {\n",
    "    'parameter_list': [\n",
    "        {'id': 0, 'itemName': 'PM2.5','itemValue': 'parameter_193'},\n",
    "        {'id': 1, 'itemName': 'PM10', 'itemValue': 'parameter_215'},\n",
    "        {'id': 2, 'itemName': 'NO', 'itemValue': 'parameter_226'},\n",
    "        {'id': 3, 'itemName': 'NO2', 'itemValue': 'parameter_194'},\n",
    "        {'id': 4, 'itemName': 'NOx', 'itemValue': 'parameter_225'},\n",
    "        {'id': 5, 'itemName': 'NH3', 'itemValue': 'parameter_311'},\n",
    "        {'id': 6, 'itemName': 'SO2', 'itemValue': 'parameter_312'},\n",
    "        {'id': 7, 'itemName': 'CO', 'itemValue': 'parameter_203'},\n",
    "        {'id': 8, 'itemName': 'Ozone', 'itemValue': 'parameter_222'},\n",
    "        {'id': 9, 'itemName': 'Benzene', 'itemValue': 'parameter_202'},\n",
    "        {'id': 10, 'itemName': 'Toluene', 'itemValue': 'parameter_232'},\n",
    "        {'id': 11, 'itemName': 'Eth-Benzene', 'itemValue': 'parameter_216'},\n",
    "        {'id': 12, 'itemName': 'MP-Xylene', 'itemValue': 'parameter_240'},\n",
    "        {'id': 13, 'itemName': 'Temp', 'itemValue': 'parameter_198'},\n",
    "        {'id': 14, 'itemName': 'RH', 'itemValue': 'parameter_235'},\n",
    "        {'id': 15, 'itemName': 'WS', 'itemValue': 'parameter_233'},\n",
    "        {'id': 16, 'itemName': 'WD', 'itemValue': 'parameter_234'},\n",
    "        {'id': 17, 'itemName': 'SR', 'itemValue': 'parameter_237'},\n",
    "        {'id': 18, 'itemName': 'BP', 'itemValue': 'parameter_238'},\n",
    "        {'id': 19, 'itemName': 'VWS', 'itemValue': 'parameter_239'},\n",
    "        {'id': 20, 'itemName': 'AT', 'itemValue': 'parameter_204'},\n",
    "        {'id': 21, 'itemName': 'TOT-RF', 'itemValue': 'parameter_37'},\n",
    "        {'id': 22, 'itemName': 'RF', 'itemValue': 'parameter_236'},\n",
    "        {'id': 23, 'itemName': 'Xylene', 'itemValue': 'parameter_223'}\n",
    "    ],\n",
    "    'criteria': '1 Hours',\n",
    "    'reportFormat': 'Tabular',\n",
    "    'fromDate': '09-04-2022 T00:00:00Z',\n",
    "    'toDate': '10-04-2023 T18:28:59Z',\n",
    "    'state': 'Andhra Pradesh',\n",
    "    'city': 'Amaravati',\n",
    "    'station': 'site_1406',\n",
    "    'parameter': [\n",
    "        'parameter_193',\n",
    "        'parameter_215',\n",
    "        'parameter_226',\n",
    "        'parameter_194',\n",
    "        'parameter_225',\n",
    "        'parameter_311',\n",
    "        'parameter_312',\n",
    "        'parameter_203',\n",
    "        'parameter_222',\n",
    "        'parameter_202',\n",
    "        'parameter_232',\n",
    "        'parameter_216',\n",
    "        'parameter_240',\n",
    "        'parameter_198',\n",
    "        'parameter_235',\n",
    "        'parameter_233',\n",
    "        'parameter_234',\n",
    "        'parameter_237',\n",
    "        'parameter_238',\n",
    "        'parameter_239',\n",
    "        'parameter_204',\n",
    "        'parameter_37',\n",
    "        'parameter_236',\n",
    "        'parameter_223'\n",
    "    ],\n",
    "    'parameterNames': [\n",
    "        'PM2.5',\n",
    "        'PM10',\n",
    "        'NO',\n",
    "        'NO2',\n",
    "        'NOx',\n",
    "        'NH3',\n",
    "        'SO2',\n",
    "        'CO',\n",
    "        'Ozone',\n",
    "        'Benzene',\n",
    "        'Toluene',\n",
    "        'Eth-Benzene',\n",
    "        'MP-Xylene',\n",
    "        'Temp',\n",
    "        'RH',\n",
    "        'WS',\n",
    "        'WD',\n",
    "        'SR',\n",
    "        'BP',\n",
    "        'VWS',\n",
    "        'AT',\n",
    "        'TOT-RF',\n",
    "        'RF',\n",
    "        'Xylene'\n",
    "    ]\n",
    "}"
   ]
  },
  {
   "cell_type": "code",
   "execution_count": 4,
   "id": "69623bf8",
   "metadata": {},
   "outputs": [],
   "source": [
    "def format_date(date):\n",
    "    return date.strftime('%d-%m-%Y T%H:%M:%SZ')"
   ]
  },
  {
   "cell_type": "code",
   "execution_count": 5,
   "id": "062cc216",
   "metadata": {},
   "outputs": [],
   "source": [
    "def get_input_json(state, city, station_id, from_date, to_date):\n",
    "    parameters['state'] = state\n",
    "    parameters['city'] = city\n",
    "    parameters['station'] = station_id\n",
    "    parameters['fromDate'] = format_date(from_date)\n",
    "    parameters['toDate'] = format_date(to_date)\n",
    "    return json.dumps(parameters).replace('\"', '\\\\\"')"
   ]
  },
  {
   "cell_type": "code",
   "execution_count": 6,
   "id": "ed351f25",
   "metadata": {},
   "outputs": [],
   "source": [
    "# from_date = datetime(2020, 7, 1, 0, 0, 0)\n",
    "# to_date = datetime(2022, 3, 31, 23, 59, 59)\n",
    "from_date = datetime(2022, 4, 1, 0, 0, 0)\n",
    "to_date = datetime(2023, 3, 31, 23, 59, 59)"
   ]
  },
  {
   "cell_type": "code",
   "execution_count": 7,
   "id": "f4ded2e1",
   "metadata": {},
   "outputs": [],
   "source": [
    "report_url = 'https://airquality.cpcb.gov.in/ccr/#/caaqm-dashboard-all/caaqm-view-data-report/'"
   ]
  },
  {
   "cell_type": "code",
   "execution_count": 8,
   "id": "71340640",
   "metadata": {},
   "outputs": [],
   "source": [
    "def encode(json_str):\n",
    "    return quote(quote('\"' + json_str + '\"'))"
   ]
  },
  {
   "cell_type": "code",
   "execution_count": 9,
   "id": "dcd4c1f4",
   "metadata": {},
   "outputs": [],
   "source": [
    "def decode(json_str):\n",
    "    return unquote(unquote(json_str))[1:-1]"
   ]
  },
  {
   "cell_type": "code",
   "execution_count": 10,
   "id": "ca30d7fb",
   "metadata": {},
   "outputs": [],
   "source": [
    "def save_stations(file_name, out):\n",
    "    stations = pd.read_csv(file_name)\n",
    "    driver = webdriver.Firefox(service=FirefoxService(GeckoDriverManager().install()), options=firefox_options)\n",
    "    driver.get('https://airquality.cpcb.gov.in/ccr/#/caaqm-dashboard-all/caaqm-landing')\n",
    "    success_alert_selector = 'div.text-center:nth-child(4).alert-success'\n",
    "    WebDriverWait(driver, timeout=1000).until(lambda d: d.find_element(By.CSS_SELECTOR, success_alert_selector))\n",
    "    pbar = tqdm(stations.iterrows(), total=stations.shape[0], display=False, desc=file_name)\n",
    "    out.append_display_data(pbar.container)\n",
    "    \n",
    "    for index, row in pbar:\n",
    "        out.append_stdout(f\"{index}, {row['state']}, {row['city']}, {row['station_id']}\\n\")\n",
    "        retries = 1\n",
    "        params = encode(get_input_json(row['state'], row['city'], row['station_id'], from_date, to_date))\n",
    "        final_url = report_url + params\n",
    "        driver.get(final_url)\n",
    "        while retries <= 5:\n",
    "            try:\n",
    "                driver.refresh()\n",
    "                excel_button = WebDriverWait(driver, timeout=1000).until(lambda d: d.find_element(By.CSS_SELECTOR, 'a.btn:nth-child(2)'))\n",
    "                excel_button.click()\n",
    "                processing_pop = WebDriverWait(driver, timeout=60).until(lambda d: d.find_element(By.CSS_SELECTOR, '.processDiv'))\n",
    "                WebDriverWait(driver, timeout=4*60).until(EC.invisibility_of_element(processing_pop))\n",
    "                break\n",
    "            except:\n",
    "                retries += 1\n",
    "        else:\n",
    "            out.append_stderr(f'error getting {row[\"station_id\"]}')\n",
    "#     time.sleep(3)\n",
    "#     driver.quit()"
   ]
  },
  {
   "cell_type": "code",
   "execution_count": 11,
   "id": "4e361674",
   "metadata": {
    "scrolled": true
   },
   "outputs": [
    {
     "data": {
      "application/vnd.jupyter.widget-view+json": {
       "model_id": "868ca1e389a144d4bb17c5342b677093",
       "version_major": 2,
       "version_minor": 0
      },
      "text/plain": [
       "Output()"
      ]
     },
     "metadata": {},
     "output_type": "display_data"
    },
    {
     "data": {
      "application/vnd.jupyter.widget-view+json": {
       "model_id": "ff8b63e342eb47c7a8c619f4a1f9045c",
       "version_major": 2,
       "version_minor": 0
      },
      "text/plain": [
       "Output()"
      ]
     },
     "metadata": {},
     "output_type": "display_data"
    },
    {
     "data": {
      "application/vnd.jupyter.widget-view+json": {
       "model_id": "86ac38abe87b491fbc6294c91e7b04fc",
       "version_major": 2,
       "version_minor": 0
      },
      "text/plain": [
       "Output()"
      ]
     },
     "metadata": {},
     "output_type": "display_data"
    },
    {
     "data": {
      "application/vnd.jupyter.widget-view+json": {
       "model_id": "99e5ddf8411b4054a8b0d32b7f1a89cd",
       "version_major": 2,
       "version_minor": 0
      },
      "text/plain": [
       "Output()"
      ]
     },
     "metadata": {},
     "output_type": "display_data"
    },
    {
     "data": {
      "application/vnd.jupyter.widget-view+json": {
       "model_id": "281ea2f2d2384782bba4d58b2647444e",
       "version_major": 2,
       "version_minor": 0
      },
      "text/plain": [
       "Output()"
      ]
     },
     "metadata": {},
     "output_type": "display_data"
    }
   ],
   "source": [
    "processes = []\n",
    "for i in range(41, 46):\n",
    "    file_name = f'stations/stations_{i}.csv'\n",
    "    out = widgets.Output()\n",
    "    display(out)\n",
    "    p = Thread(target=save_stations, args=(file_name, out))\n",
    "    p.start()\n",
    "    processes.append(p)\n",
    "\n",
    "for p in processes:\n",
    "    p.join()"
   ]
  },
  {
   "cell_type": "code",
   "execution_count": null,
   "id": "b5d99825",
   "metadata": {},
   "outputs": [],
   "source": []
  }
 ],
 "metadata": {
  "kernelspec": {
   "display_name": "Python 3 (ipykernel)",
   "language": "python",
   "name": "python3"
  },
  "language_info": {
   "codemirror_mode": {
    "name": "ipython",
    "version": 3
   },
   "file_extension": ".py",
   "mimetype": "text/x-python",
   "name": "python",
   "nbconvert_exporter": "python",
   "pygments_lexer": "ipython3",
   "version": "3.10.8"
  }
 },
 "nbformat": 4,
 "nbformat_minor": 5
}
