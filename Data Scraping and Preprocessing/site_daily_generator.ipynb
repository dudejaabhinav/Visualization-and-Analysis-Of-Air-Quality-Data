{
 "cells": [
  {
   "cell_type": "code",
   "execution_count": 1,
   "id": "1bcfc9a8",
   "metadata": {},
   "outputs": [],
   "source": [
    "import pandas as pd\n",
    "import numpy as np\n",
    "import os\n",
    "import time"
   ]
  },
  {
   "cell_type": "code",
   "execution_count": 2,
   "id": "7a2ded69",
   "metadata": {},
   "outputs": [],
   "source": [
    "files = os.listdir('./site_data_interpolate')"
   ]
  },
  {
   "cell_type": "code",
   "execution_count": 3,
   "id": "84dfc6cc",
   "metadata": {
    "scrolled": true
   },
   "outputs": [
    {
     "name": "stdout",
     "output_type": "stream",
     "text": [
      "4.397366078694661\n"
     ]
    }
   ],
   "source": [
    "start = time.time()\n",
    "for file in files:\n",
    "    df = pd.read_csv('site_data_interpolate/'+file)\n",
    "    df.drop(['AQI_bucket'], inplace=True,axis=1)\n",
    "    df['From Date'] = pd.to_datetime(df['From Date'], format='%Y-%m-%d %H:%M')\n",
    "    new_df = df.groupby([df['From Date'].dt.date , df['From Date'].dt.hour // 6])[['PM2.5', 'PM10', 'NO', 'NO2', 'NOx', 'NH3', 'SO2', 'CO', 'Ozone', 'AQI']].agg(['min', 'max', 'mean'])\n",
    "    new_df.columns = new_df.columns.map('_'.join)\n",
    "    new_df.index = new_df.index.set_names(['Date', 'Time'])\n",
    "    new_df.reset_index(inplace=True)\n",
    "    daywise_df = df.groupby(df['From Date'].dt.date)[['PM2.5', 'PM10', 'NO', 'NO2', 'NOx', 'NH3', 'SO2', 'CO', 'Ozone', 'AQI']].agg(['min', 'max', 'mean'])\n",
    "    daywise_df.columns = daywise_df.columns.map('_'.join)\n",
    "    daywise_df.index.set_names('Date', inplace=True)\n",
    "    daywise_df.reset_index(inplace=True)\n",
    "    daywise_df['Time'] = -1\n",
    "    new_df = pd.concat([new_df, daywise_df])\n",
    "    new_df.sort_values(['Date', 'Time'], inplace=True)\n",
    "    new_df['Time'] = new_df['Time'].replace({-1: 'All Day', 0: 'Night', 1: 'Morning', 2: 'Afternoon', 3: 'Evening'})\n",
    "    new_df.reset_index(drop=True, inplace=True)\n",
    "    new_df.to_csv('site_aggregate_data_daily/' + file, index=False)\n",
    "print((time.time() - start) / 60)"
   ]
  },
  {
   "cell_type": "code",
   "execution_count": null,
   "id": "edbebb2f",
   "metadata": {},
   "outputs": [],
   "source": []
  },
  {
   "cell_type": "code",
   "execution_count": null,
   "id": "094bd1b5",
   "metadata": {},
   "outputs": [],
   "source": [
    "def get_AQI_bucket(x):\n",
    "    if x <= 50:\n",
    "        return \"Good\"\n",
    "    elif x <= 100:\n",
    "        return \"Satisfactory\"\n",
    "    elif x <= 200:\n",
    "        return \"Moderate\"\n",
    "    elif x <= 300:\n",
    "        return \"Poor\"\n",
    "    elif x <= 400:\n",
    "        return \"Very Poor\"\n",
    "    elif x > 400:\n",
    "        return \"Severe\"\n",
    "    else:\n",
    "        return np.NaN"
   ]
  },
  {
   "cell_type": "code",
   "execution_count": null,
   "id": "29300751",
   "metadata": {},
   "outputs": [],
   "source": [
    "for file in files:\n",
    "\n",
    "    df = pd.read_csv('site_data/' + file)\n",
    "    new_cols = list(df.columns[2:-1])\n",
    "    new_df = pd.DataFrame(columns = ['Date', 'Time'] + new_cols)\n",
    "    time_list = ['night', 'morning', 'afternoon', 'evening']\n",
    "    k = 0\n",
    "    for i in range(0, len(df), 6):\n",
    "        df1 = df.iloc[i:i+6]\n",
    "        curr_date = df1.loc[df1.index[0], 'From Date'].split(' ')[0]\n",
    "        curr_time = time_list[k]\n",
    "        k = (k+1) % 4\n",
    "        average_list = []\n",
    "        average_row = df1.iloc[:,2:-1].mean(skipna=True)\n",
    "\n",
    "        new_row = pd.concat([pd.Series({'Date': curr_date, 'Time': curr_time}), average_row])\n",
    "\n",
    "        new_df.loc[len(new_df.index)] = new_row\n",
    "\n",
    "        if k == 0:\n",
    "            average_row = new_df.iloc[-4:,2:].mean(skipna=True)\n",
    "            new_row = pd.concat([pd.Series({'Date': curr_date, 'Time': 'all_day'}), average_row])\n",
    "            new_df.loc[len(new_df.index)] = new_row\n",
    "    new_df[\"AQI_bucket\"] = new_df[\"AQI\"].apply(lambda x: get_AQI_bucket(x))\n",
    "    new_df.to_csv('site_aggregate_data_daily/' + file, index=False)"
   ]
  },
  {
   "cell_type": "code",
   "execution_count": null,
   "id": "14167faa",
   "metadata": {},
   "outputs": [],
   "source": [
    "new_df = pd.DataFrame(columns = ['Date', 'Time'] + new_cols)"
   ]
  },
  {
   "cell_type": "code",
   "execution_count": null,
   "id": "b1269bcd",
   "metadata": {},
   "outputs": [],
   "source": [
    "col = pd.Series({'Date': curr_date, 'Time': curr_time})\n",
    "col"
   ]
  },
  {
   "cell_type": "code",
   "execution_count": null,
   "id": "bdb84796",
   "metadata": {},
   "outputs": [],
   "source": [
    "average_row.shape"
   ]
  },
  {
   "cell_type": "code",
   "execution_count": null,
   "id": "cc9fd558",
   "metadata": {},
   "outputs": [],
   "source": [
    "new_df"
   ]
  },
  {
   "cell_type": "code",
   "execution_count": null,
   "id": "d46241ba",
   "metadata": {},
   "outputs": [],
   "source": [
    "new_df"
   ]
  },
  {
   "cell_type": "code",
   "execution_count": null,
   "id": "fcea2e7f",
   "metadata": {},
   "outputs": [],
   "source": [
    "pd.concat([new_df, avg_row], axis=0, ignore_index=True)"
   ]
  },
  {
   "cell_type": "code",
   "execution_count": null,
   "id": "3be921ff",
   "metadata": {},
   "outputs": [],
   "source": [
    "new_df"
   ]
  },
  {
   "cell_type": "code",
   "execution_count": null,
   "id": "228749ae",
   "metadata": {},
   "outputs": [],
   "source": [
    "import numpy as np"
   ]
  },
  {
   "cell_type": "code",
   "execution_count": null,
   "id": "36250299",
   "metadata": {},
   "outputs": [],
   "source": [
    "a = np.array([\n",
    "    [1, 2, 3],\n",
    "    [4, 5, 6],\n",
    "    [7, 8, 9]\n",
    "])"
   ]
  },
  {
   "cell_type": "code",
   "execution_count": null,
   "id": "1d071552",
   "metadata": {},
   "outputs": [],
   "source": [
    "a[-2:]"
   ]
  }
 ],
 "metadata": {
  "kernelspec": {
   "display_name": "Python 3 (ipykernel)",
   "language": "python",
   "name": "python3"
  },
  "language_info": {
   "codemirror_mode": {
    "name": "ipython",
    "version": 3
   },
   "file_extension": ".py",
   "mimetype": "text/x-python",
   "name": "python",
   "nbconvert_exporter": "python",
   "pygments_lexer": "ipython3",
   "version": "3.10.8"
  }
 },
 "nbformat": 4,
 "nbformat_minor": 5
}
